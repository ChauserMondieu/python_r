{
 "cells": [
  {
   "cell_type": "markdown",
   "id": "969c3166",
   "metadata": {},
   "source": [
    "# python descriptor\n",
    "1. 是一个含有`__getter__`和`__setter__`的可实例化的类\n",
    "2. 当实例化时作为类成员变量能够在调用时动态调用其间的`__getter__`方法然后动态更新"
   ]
  },
  {
   "cell_type": "code",
   "execution_count": null,
   "id": "91b06294",
   "metadata": {},
   "outputs": [],
   "source": [
    "import logging\n",
    "\n",
    "logger = logging.basicConfig(level=logging.INFO)\n",
    "\n",
    "class LoggingAccess:\n",
    "    def __get__(self):\n",
    "        "
   ]
  }
 ],
 "metadata": {
  "kernelspec": {
   "display_name": "python3.6",
   "language": "python",
   "name": "python3.6"
  },
  "language_info": {
   "codemirror_mode": {
    "name": "ipython",
    "version": 3
   },
   "file_extension": ".py",
   "mimetype": "text/x-python",
   "name": "python",
   "nbconvert_exporter": "python",
   "pygments_lexer": "ipython3",
   "version": "3.9.7"
  },
  "toc": {
   "base_numbering": 1,
   "nav_menu": {},
   "number_sections": true,
   "sideBar": true,
   "skip_h1_title": false,
   "title_cell": "Table of Contents",
   "title_sidebar": "Contents",
   "toc_cell": false,
   "toc_position": {},
   "toc_section_display": true,
   "toc_window_display": true
  }
 },
 "nbformat": 4,
 "nbformat_minor": 5
}
