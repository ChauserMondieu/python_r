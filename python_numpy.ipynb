{
 "cells": [
  {
   "cell_type": "markdown",
   "id": "20d09572",
   "metadata": {},
   "source": [
    "# numpy\n",
    "## data munging"
   ]
  },
  {
   "cell_type": "markdown",
   "id": "75342cc9",
   "metadata": {},
   "source": [
    "### slicing\n",
    "1. indexing - take put\n",
    "2. reshape ravel flatten\n",
    "3. repeat tile\n",
    "4. newaxis"
   ]
  },
  {
   "cell_type": "code",
   "execution_count": 2,
   "id": "34ce3d4b",
   "metadata": {},
   "outputs": [
    {
     "data": {
      "text/plain": [
       "array([[ 0,  1,  2,  3,  4],\n",
       "       [ 5,  6,  7,  8,  9],\n",
       "       [10, 11, 12, 13, 14],\n",
       "       [15, 16, 17, 18, 19]])"
      ]
     },
     "execution_count": 2,
     "metadata": {},
     "output_type": "execute_result"
    }
   ],
   "source": [
    "import numpy as np\n",
    "\n",
    "origin = np.arange(20).reshape(4,5)\n",
    "origin"
   ]
  },
  {
   "cell_type": "code",
   "execution_count": 3,
   "id": "783d46e7",
   "metadata": {},
   "outputs": [
    {
     "data": {
      "text/plain": [
       "array([[ 0,  1,  2,  3,  4],\n",
       "       [ 5,  6,  7,  8,  9],\n",
       "       [10, 11, 12, 13, 14],\n",
       "       [15, 16, 17, 18, 19],\n",
       "       [ 0,  1,  2,  3,  4],\n",
       "       [ 5,  6,  7,  8,  9],\n",
       "       [10, 11, 12, 13, 14],\n",
       "       [15, 16, 17, 18, 19]])"
      ]
     },
     "execution_count": 3,
     "metadata": {},
     "output_type": "execute_result"
    }
   ],
   "source": [
    "new1 = np.tile(origin,(2,1))\n",
    "new1"
   ]
  },
  {
   "cell_type": "code",
   "execution_count": 5,
   "id": "7f996f17",
   "metadata": {},
   "outputs": [
    {
     "data": {
      "text/plain": [
       "array([[ 0,  0,  1,  1,  2,  2,  3,  3,  4,  4],\n",
       "       [ 5,  5,  6,  6,  7,  7,  8,  8,  9,  9],\n",
       "       [10, 10, 11, 11, 12, 12, 13, 13, 14, 14],\n",
       "       [15, 15, 16, 16, 17, 17, 18, 18, 19, 19]])"
      ]
     },
     "execution_count": 5,
     "metadata": {},
     "output_type": "execute_result"
    }
   ],
   "source": [
    "new2 = np.repeat(origin, 2, axis=1)\n",
    "new2"
   ]
  },
  {
   "cell_type": "code",
   "execution_count": 7,
   "id": "714f9cdc",
   "metadata": {},
   "outputs": [
    {
     "data": {
      "text/plain": [
       "array([[ 0,  1,  2,  2,  3,  3,  3,  4,  4,  4,  4,  4],\n",
       "       [ 5,  6,  7,  7,  8,  8,  8,  9,  9,  9,  9,  9],\n",
       "       [10, 11, 12, 12, 13, 13, 13, 14, 14, 14, 14, 14],\n",
       "       [15, 16, 17, 17, 18, 18, 18, 19, 19, 19, 19, 19]])"
      ]
     },
     "execution_count": 7,
     "metadata": {},
     "output_type": "execute_result"
    }
   ],
   "source": [
    "new3 = origin.repeat([1,1,2,3,5],axis=1)\n",
    "new3"
   ]
  },
  {
   "cell_type": "markdown",
   "id": "62d3d366",
   "metadata": {},
   "source": [
    "### broadcasting\n",
    "1. concatenate()\n",
    "2. vstack( ) r_[ ]\n",
    "3. hstack( ) c_[ ]"
   ]
  },
  {
   "cell_type": "code",
   "execution_count": 17,
   "id": "d09fdc8a",
   "metadata": {},
   "outputs": [
    {
     "name": "stdout",
     "output_type": "stream",
     "text": [
      "left:\n",
      "[[-0.49347223 -0.04229612 -0.46430637  0.94713139]\n",
      " [-2.02723765  0.79982769  2.85313599  1.49222266]\n",
      " [ 0.70760634  0.11182728 -1.38599835  1.44227297]]\n",
      "right:\n",
      "[[-0.33633902  0.83727346]\n",
      " [ 1.57925918  0.43832995]\n",
      " [-0.02801835 -0.72786918]]\n",
      "[[-0.49347223 -0.04229612 -0.46430637  0.94713139 -0.33633902  0.83727346]\n",
      " [-2.02723765  0.79982769  2.85313599  1.49222266  1.57925918  0.43832995]\n",
      " [ 0.70760634  0.11182728 -1.38599835  1.44227297 -0.02801835 -0.72786918]]\n"
     ]
    }
   ],
   "source": [
    "left = np.random.randn(3,4)\n",
    "right = np.random.randn(3,2)\n",
    "print(\"left:\\n{}\".format(left))\n",
    "print(\"right:\\n{}\".format(right))\n",
    "res1 = np.hstack((left, right))\n",
    "print(res1)"
   ]
  },
  {
   "cell_type": "code",
   "execution_count": 20,
   "id": "85baed91",
   "metadata": {},
   "outputs": [
    {
     "name": "stdout",
     "output_type": "stream",
     "text": [
      "(3, 6)\n"
     ]
    },
    {
     "data": {
      "text/plain": [
       "array([[-0.49347223, -0.04229612, -0.46430637,  0.94713139, -0.33633902,\n",
       "         0.83727346],\n",
       "       [-2.02723765,  0.79982769,  2.85313599,  1.49222266,  1.57925918,\n",
       "         0.43832995],\n",
       "       [ 0.70760634,  0.11182728, -1.38599835,  1.44227297, -0.02801835,\n",
       "        -0.72786918]])"
      ]
     },
     "execution_count": 20,
     "metadata": {},
     "output_type": "execute_result"
    }
   ],
   "source": [
    "res2 = np.concatenate((left, right),axis=1)\n",
    "print(res2.shape)\n",
    "res2"
   ]
  },
  {
   "cell_type": "code",
   "execution_count": 22,
   "id": "6985ccb6",
   "metadata": {},
   "outputs": [
    {
     "name": "stdout",
     "output_type": "stream",
     "text": [
      "(3, 6)\n"
     ]
    },
    {
     "data": {
      "text/plain": [
       "array([[-0.49347223, -0.04229612, -0.46430637,  0.94713139, -0.33633902,\n",
       "         0.83727346],\n",
       "       [-2.02723765,  0.79982769,  2.85313599,  1.49222266,  1.57925918,\n",
       "         0.43832995],\n",
       "       [ 0.70760634,  0.11182728, -1.38599835,  1.44227297, -0.02801835,\n",
       "        -0.72786918]])"
      ]
     },
     "execution_count": 22,
     "metadata": {},
     "output_type": "execute_result"
    }
   ],
   "source": [
    "res3 = np.c_[left,right]\n",
    "print(res3.shape)\n",
    "res3"
   ]
  },
  {
   "cell_type": "code",
   "execution_count": 23,
   "id": "13025c49",
   "metadata": {},
   "outputs": [
    {
     "data": {
      "text/plain": [
       "array([[[-2.02893689e-01,  1.87431883e-01,  6.08574143e-01,\n",
       "         -3.13107266e-01,  1.36942776e+00],\n",
       "        [-6.58057520e-01, -3.59245482e-01, -7.27640940e-01,\n",
       "         -1.08069111e+00,  2.33616121e+00],\n",
       "        [ 2.18659639e+00, -2.89378600e-01, -8.31419200e-01,\n",
       "         -1.41305542e+00,  1.01177448e+00],\n",
       "        [ 2.25346806e-01,  9.20551929e-01,  5.04677687e-01,\n",
       "         -1.85988747e+00, -4.89489339e-01]],\n",
       "\n",
       "       [[-1.33296091e-01, -5.96694467e-04, -7.23443800e-01,\n",
       "          3.97172115e-01,  7.43700033e-01],\n",
       "        [-1.55176902e+00, -1.94036220e+00,  9.14550164e-01,\n",
       "          1.23654369e-01, -2.81515068e-01],\n",
       "        [ 2.93467864e-02, -4.31175283e-01, -1.40841096e-01,\n",
       "          6.76596083e-01,  3.96583655e-01],\n",
       "        [ 1.58617315e-01, -5.75623805e-01, -3.16658686e-01,\n",
       "          1.11625228e-01, -1.19426156e+00]],\n",
       "\n",
       "       [[-1.67253422e-01,  1.15270292e+00, -1.15626035e-01,\n",
       "         -4.01755268e-02, -3.60458175e-01],\n",
       "        [ 5.59003466e-01,  9.18066943e-01, -3.54566739e-01,\n",
       "          1.42230587e+00,  5.23965318e-01],\n",
       "        [-7.59686595e-01, -8.39934080e-01, -1.33633501e+00,\n",
       "          2.01120405e+00,  1.37433865e+00],\n",
       "        [ 6.50804594e-01, -6.15364854e-01,  5.31215092e-01,\n",
       "          2.16494981e+00,  1.38000622e-02]]])"
      ]
     },
     "execution_count": 23,
     "metadata": {},
     "output_type": "execute_result"
    }
   ],
   "source": [
    "# calculate mean over 2th axis\n",
    "num = np.random.randn(60).reshape(3,4,5)\n",
    "num"
   ]
  },
  {
   "cell_type": "code",
   "execution_count": 30,
   "id": "8449bd12",
   "metadata": {},
   "outputs": [
    {
     "name": "stdout",
     "output_type": "stream",
     "text": [
      "(3, 4)\n",
      "[[[-0.53278025 -0.14245468  0.27868758 -0.64299383  1.03954119]\n",
      "  [-0.56016275 -0.26135071 -0.62974617 -0.98279634  2.43405598]\n",
      "  [ 2.05369286 -0.42228213 -0.96432273 -1.54595895  0.87887095]\n",
      "  [ 0.36510688  1.06031201  0.64443777 -1.72012739 -0.34972926]]\n",
      "\n",
      " [[-0.1900032  -0.05730381 -0.78015091  0.340465    0.68699292]\n",
      "  [-1.00468067 -1.39327385  1.46163851  0.67074272  0.26557328]\n",
      "  [-0.07675524 -0.53727731 -0.24694313  0.57049405  0.29048163]\n",
      "  [ 0.52187762 -0.2123635   0.04660162  0.47488553 -0.83100126]]\n",
      "\n",
      " [[-0.26109137  1.05886496 -0.20946399 -0.13401348 -0.45429613]\n",
      "  [-0.05475151  0.30431197 -0.96832171  0.8085509  -0.08978965]\n",
      "  [-0.849604   -0.92985148 -1.42625241  1.92128664  1.28442124]\n",
      "  [ 0.10172365 -1.16444579 -0.01786585  1.61586887 -0.53528088]]]\n"
     ]
    }
   ],
   "source": [
    "mean = num.mean(axis=2)\n",
    "print(mean.shape)\n",
    "demean = num - mean[:,:,np.newaxis]\n",
    "print(demean)"
   ]
  },
  {
   "cell_type": "markdown",
   "id": "aee4c51c",
   "metadata": {},
   "source": [
    "### built-in ufunc\n",
    "运算符重载 x+y = np.add(x,y)<br>\n",
    "[reduce, accumulate, outer(x,y), reduceat(x,bins,axis)]\n",
    "1. add.reduce = sum\n",
    "2. logical_and.reduce = all\n",
    "3. add.accumulate = cumsum"
   ]
  },
  {
   "cell_type": "code",
   "execution_count": 35,
   "id": "0d9b5048",
   "metadata": {},
   "outputs": [
    {
     "data": {
      "text/plain": [
       "45"
      ]
     },
     "execution_count": 35,
     "metadata": {},
     "output_type": "execute_result"
    }
   ],
   "source": [
    "dome = np.arange(10)\n",
    "rome = np.add.reduce(dome)\n",
    "rome"
   ]
  },
  {
   "cell_type": "code",
   "execution_count": 44,
   "id": "2d20ac1f",
   "metadata": {},
   "outputs": [
    {
     "name": "stdout",
     "output_type": "stream",
     "text": [
      "[[ True  True  True  True]\n",
      " [ True False  True False]\n",
      " [ True  True  True  True]\n",
      " [False False  True False]\n",
      " [ True  True  True  True]]\n"
     ]
    },
    {
     "data": {
      "text/plain": [
       "array([ True, False,  True, False,  True])"
      ]
     },
     "execution_count": 44,
     "metadata": {},
     "output_type": "execute_result"
    }
   ],
   "source": [
    "dome2 = np.random.randn(5,5)\n",
    "dome2[::2].sort(axis=1)\n",
    "print(dome2[:,:-1]<dome2[:,1:])\n",
    "rome2 = np.logical_and.reduce(dome2[:,:-1]<dome2[:,1:],axis=1)\n",
    "rome2"
   ]
  },
  {
   "cell_type": "markdown",
   "id": "f54090b5",
   "metadata": {},
   "source": [
    "### write own ufunc\n",
    "1. frompyfunc(unfunc-like function, elements) -> the output is a numpy object\n",
    "2. vectorize(unfunc-like function,otype)\n",
    "3. shortcoming: much more slower than built-in ufun"
   ]
  },
  {
   "cell_type": "markdown",
   "id": "e211feee",
   "metadata": {},
   "source": [
    "## more structure"
   ]
  },
  {
   "cell_type": "markdown",
   "id": "13200dc0",
   "metadata": {},
   "source": [
    "### dtype\n",
    "1. tuple symbolizes (name,data type, repeat time)\n",
    "2. could reach data via name"
   ]
  },
  {
   "cell_type": "code",
   "execution_count": 48,
   "id": "ade341d0",
   "metadata": {},
   "outputs": [
    {
     "data": {
      "text/plain": [
       "array([([0., 0., 0.], 0), ([0., 0., 0.], 0), ([0., 0., 0.], 0),\n",
       "       ([0., 0., 0.], 0)], dtype=[('x', '<f8', (3,)), ('y', '<i4')])"
      ]
     },
     "execution_count": 48,
     "metadata": {},
     "output_type": "execute_result"
    }
   ],
   "source": [
    "# sample for a thorough usage of numpy ndarray\n",
    "dtype = [('x',np.float64, 3),('y',np.int32)]\n",
    "samp = np.zeros(4,dtype = dtype)\n",
    "samp"
   ]
  },
  {
   "cell_type": "code",
   "execution_count": 49,
   "id": "e814bb34",
   "metadata": {},
   "outputs": [
    {
     "data": {
      "text/plain": [
       "array([[1., 3., 2.],\n",
       "       [2., 4., 8.]])"
      ]
     },
     "execution_count": 49,
     "metadata": {},
     "output_type": "execute_result"
    }
   ],
   "source": [
    "samp2 = np.array([([1,3,2],5),([2,4,8],10)],dtype=dtype)\n",
    "samp2['x']"
   ]
  },
  {
   "cell_type": "code",
   "execution_count": 50,
   "id": "080b6566",
   "metadata": {},
   "outputs": [
    {
     "data": {
      "text/plain": [
       "array([1., 3., 2.])"
      ]
     },
     "execution_count": 50,
     "metadata": {},
     "output_type": "execute_result"
    }
   ],
   "source": [
    "samp2[0]['x']"
   ]
  },
  {
   "cell_type": "markdown",
   "id": "624d8409",
   "metadata": {},
   "source": [
    "## sort function\n",
    "1. [ndarray].sort() is a inplace sort\n",
    "2. np.sort() will create a new ndarry \n",
    "3. [ndarray].argsort() will return an index array"
   ]
  },
  {
   "cell_type": "code",
   "execution_count": 62,
   "id": "1fa8a99f",
   "metadata": {},
   "outputs": [
    {
     "data": {
      "text/plain": [
       "array([[ 1.        ,  4.        ,  3.        ,  2.        ,  0.        ],\n",
       "       [ 3.15807477,  1.55778388, -0.30698746, -0.74257675, -0.19980926],\n",
       "       [ 1.8513698 ,  1.25486481, -0.55407361, -0.56133136,  0.13183761]])"
      ]
     },
     "execution_count": 62,
     "metadata": {},
     "output_type": "execute_result"
    }
   ],
   "source": [
    "arr = np.random.randn(3,5)\n",
    "sand = [1,4,3,2,0]\n",
    "arr[0,:] = sand\n",
    "arr"
   ]
  },
  {
   "cell_type": "code",
   "execution_count": 63,
   "id": "471eb769",
   "metadata": {},
   "outputs": [
    {
     "data": {
      "text/plain": [
       "array([[ 0.        ,  1.        ,  2.        ,  3.        ,  4.        ],\n",
       "       [-0.19980926,  3.15807477, -0.74257675, -0.30698746,  1.55778388],\n",
       "       [ 0.13183761,  1.8513698 , -0.56133136, -0.55407361,  1.25486481]])"
      ]
     },
     "execution_count": 63,
     "metadata": {},
     "output_type": "execute_result"
    }
   ],
   "source": [
    "arr[:, arr[0,:].argsort()]"
   ]
  },
  {
   "cell_type": "markdown",
   "id": "8839eddc",
   "metadata": {},
   "source": [
    "## structural changes\n",
    "1. reshape( )\n",
    "2. transpose( ) T\n",
    "3. swapaxes( )"
   ]
  },
  {
   "cell_type": "markdown",
   "id": "3c983167",
   "metadata": {},
   "source": [
    "## np.meshgrid\n"
   ]
  },
  {
   "cell_type": "code",
   "execution_count": 130,
   "id": "275453d8",
   "metadata": {},
   "outputs": [],
   "source": [
    "import matplotlib as mpl\n",
    "from matplotlib import pyplot as plt\n",
    "import numpy as np\n",
    "\n",
    "def add_box(ax):\n",
    "    '''用红框标出一个ax的范围.'''\n",
    "    axpos = ax.get_position()\n",
    "    rect = mpl.patches.Rectangle(\n",
    "        (axpos.x0, axpos.y0), axpos.width, axpos.height,\n",
    "        lw=3, ls='--', ec='r', fc='none', alpha=0.5,\n",
    "        transform=ax.figure.transFigure\n",
    "    )\n",
    "    ax.patches.append(rect)\n",
    "    \n",
    "def add_right_cax(ax, pad, width):\n",
    "    '''\n",
    "    在一个ax右边追加与之等高的cax.\n",
    "    pad是cax与ax的间距.\n",
    "    width是cax的宽度.\n",
    "    '''\n",
    "    axpos = ax.get_position()\n",
    "    caxpos = mpl.transforms.Bbox.from_extents(\n",
    "        axpos.x1 + pad,\n",
    "        axpos.y0,\n",
    "        axpos.x1 + pad + width,\n",
    "        axpos.y1\n",
    "    )\n",
    "    cax = ax.figure.add_axes(caxpos)\n",
    "\n",
    "    return cax"
   ]
  },
  {
   "cell_type": "code",
   "execution_count": 136,
   "id": "c2a29e54",
   "metadata": {},
   "outputs": [],
   "source": [
    "# prepare raw data\n",
    "points = np.arange(-5,5,0.01)\n",
    "xs, ys = np.meshgrid(points, points)\n",
    "zs = np.sqrt(xs**2 + ys**2)"
   ]
  },
  {
   "cell_type": "markdown",
   "id": "7fee4d19",
   "metadata": {},
   "source": [
    "### some interfaces\n",
    "1. figure.colorbar(im,ax|cax,orientation,ticks,lable)\n",
    "2. matplotlib - cm.ScalarMappable(norm, cmap)\n",
    "3. matplotlib - colors.Normalize colors.LogNorm colors.BoundaryNorm\n",
    "4. matplotlib - cm.[ ]"
   ]
  },
  {
   "cell_type": "code",
   "execution_count": 139,
   "id": "4e223147",
   "metadata": {},
   "outputs": [
    {
     "data": {
      "text/plain": [
       "<matplotlib.image.AxesImage at 0x7f8d45c87dc0>"
      ]
     },
     "execution_count": 139,
     "metadata": {},
     "output_type": "execute_result"
    },
    {
     "data": {
      "image/png": "[encoded data removed]",
      "text/plain": [
       "<Figure size 640x480 with 5 Axes>"
      ]
     },
     "metadata": {},
     "output_type": "display_data"
    }
   ],
   "source": [
    "fig,axes = plt.subplots(2,2,facecolor='whitesmoke',edgecolor='gray')\n",
    "fig.subplots_adjust(hspace=0.05, wspace=0.02)\n",
    "fig.suptitle(\"test\")\n",
    "\n",
    "norm = mpl.colors.Normalize(vmin=0, vmax=25)\n",
    "im = mpl.cm.ScalarMappable(norm = norm, cmap = mpl.cm.viridis)\n",
    "#im = axes[0,1].pcolormesh(xs,ys,zs, cmap=mpl.cm.viridis, shading='nearest')\n",
    "\n",
    "    \n",
    "# 提前用红框圈出每个ax的范围,并关闭刻度显示.\n",
    "for ax in axes.flat:\n",
    "    add_box(ax)\n",
    "    ax.axis('off')\n",
    "\n",
    "cax = add_right_cax(axes[0,1], pad=0, width=0.02)\n",
    "\n",
    "# set colorbar\n",
    "fig.colorbar(im, cax=cax, orientation='vertical', ticks=np.linspace(0,25,11,dtype=float),label=\"c\")\n",
    "axes[0,1].set_title('test')\n",
    "axes[0,1].imshow(zs)\n"
   ]
  },
  {
   "cell_type": "markdown",
   "id": "77cd0f7c",
   "metadata": {},
   "source": [
    "## ternary\n",
    "1. python solution - x if condition else y\n",
    "2. numpy solution - np.where(condition, x, y)"
   ]
  },
  {
   "cell_type": "code",
   "execution_count": 153,
   "id": "7b5f1c3b",
   "metadata": {},
   "outputs": [
    {
     "name": "stdout",
     "output_type": "stream",
     "text": [
      "arr_x:\n",
      " [[ 0.80763947]\n",
      " [-0.82698574]\n",
      " [ 0.86579424]]\n",
      " arr_y:\n",
      "[[ 0.08645953]\n",
      " [-1.11318431]\n",
      " [-1.93824737]]\n",
      "\n"
     ]
    },
    {
     "data": {
      "text/plain": [
       "[array([0.80763947]), array([-0.82698574]), array([0.86579424])]"
      ]
     },
     "execution_count": 153,
     "metadata": {},
     "output_type": "execute_result"
    }
   ],
   "source": [
    "arr_x = np.random.randn(3,1)\n",
    "arr_y = np.random.randn(3,1)\n",
    "print(\"arr_x:\\n {0}\\n arr_y:\\n{1}\\n\".format(arr_x, arr_y))\n",
    "cond1 = [(x > y) for x, y in zip(arr_x, arr_y)]\n",
    "res1 = [(x if c else y) for x,c,d in zip(arr_x,cond1,arr_y)]\n",
    "res1"
   ]
  },
  {
   "cell_type": "markdown",
   "id": "4ea1f2c8",
   "metadata": {},
   "source": [
    "## statistic methods\n",
    "1. ndarray.mean = np.mean(arr)\n",
    "2. ndarray.sum = np.sum(arr)\n",
    "3. cumsum cumprod\n",
    "4. std var\n",
    "5. min max\n",
    "6. argmin argmax"
   ]
  },
  {
   "cell_type": "code",
   "execution_count": 156,
   "id": "00094719",
   "metadata": {},
   "outputs": [
    {
     "name": "stdout",
     "output_type": "stream",
     "text": [
      "0.0029283999373880807\n",
      "0.0029283999373880807\n"
     ]
    }
   ],
   "source": [
    "exp_arr = np.random.randn(4,5)\n",
    "print(np.average(exp_arr))\n",
    "print(exp_arr.mean())"
   ]
  },
  {
   "cell_type": "markdown",
   "id": "b518f3d7",
   "metadata": {},
   "source": [
    "## matrix methods\n",
    "numpy.linalg<br>\n",
    "1. qr decomposition\n",
    "2. svd\n",
    "3. eig\n",
    "4. inv pinv\n",
    "5. det "
   ]
  },
  {
   "cell_type": "code",
   "execution_count": 230,
   "id": "fd257fea",
   "metadata": {},
   "outputs": [
    {
     "data": {
      "text/plain": [
       "array([[1, 3, 2],\n",
       "       [6, 4, 7],\n",
       "       [3, 8, 5]])"
      ]
     },
     "execution_count": 230,
     "metadata": {},
     "output_type": "execute_result"
    }
   ],
   "source": [
    "from numpy.linalg import qr, inv, eig, svd\n",
    "from numpy import linalg\n",
    "\n",
    "samp = np.array([[1,3,2],[6,4,7],[3,8,5]])\n",
    "samp"
   ]
  },
  {
   "cell_type": "markdown",
   "id": "a01c0887",
   "metadata": {},
   "source": [
    "#### QR\n",
    "$$\n",
    "    A = QR, \n",
    "$$\n",
    "$Q$ is unit matrix and $R$ is upper triangle matrix"
   ]
  },
  {
   "cell_type": "code",
   "execution_count": 233,
   "id": "bfd7ccc0",
   "metadata": {},
   "outputs": [
    {
     "name": "stdout",
     "output_type": "stream",
     "text": [
      "[[-0.14744196  0.33197886 -0.93169249]\n",
      " [-0.88465174 -0.46553358 -0.02588035]\n",
      " [-0.44232587  0.82040753  0.36232486]]\n",
      "[[-6.78232998 -7.51953976 -8.69907541]\n",
      " [ 0.          5.69706255  1.50726035]\n",
      " [ 0.          0.         -0.23292312]]\n",
      "9.000000000000014\n"
     ]
    }
   ],
   "source": [
    "q,r = qr(samp)\n",
    "print(q)\n",
    "print(r)\n",
    "print(np.linalg.det(r))"
   ]
  },
  {
   "cell_type": "markdown",
   "id": "945a1e83",
   "metadata": {},
   "source": [
    "#### EVD\n",
    "$$ \n",
    "    P^{-1} \\Lambda P = B\n",
    "$$\n",
    "$$\n",
    "\\lambda, p = np.linalg.eig(matrix)\n",
    "$$"
   ]
  },
  {
   "cell_type": "code",
   "execution_count": 236,
   "id": "fd76f498",
   "metadata": {},
   "outputs": [
    {
     "name": "stdout",
     "output_type": "stream",
     "text": [
      "p:\n",
      " [[-0.2658066  -0.68140931  0.2196581 ]\n",
      " [-0.66458531 -0.20052395 -0.75038694]\n",
      " [-0.69833603  0.70389737  0.62343385]]\n",
      "lambda : \n",
      "[13.75524391 -0.18316975 -3.57207416]\n",
      "det:\n",
      "8.99999999999998\n"
     ]
    }
   ],
   "source": [
    "# EVD process\n",
    "lam, p = eig(samp)\n",
    "print(\"p:\\n {0}\".format(p))\n",
    "print(\"lambda : \\n{0}\".format(lam))\n",
    "\n",
    "res0 = 1\n",
    "for i in lam:\n",
    "    res0 *= i\n",
    "print(\"det:\\n{0}\".format(res0))"
   ]
  },
  {
   "cell_type": "code",
   "execution_count": 218,
   "id": "d3e962d7",
   "metadata": {},
   "outputs": [
    {
     "data": {
      "text/plain": [
       "array([[1., 3., 2.],\n",
       "       [6., 4., 7.],\n",
       "       [3., 8., 5.]])"
      ]
     },
     "execution_count": 218,
     "metadata": {},
     "output_type": "execute_result"
    }
   ],
   "source": [
    "revamp = np.dot(np.dot(p, np.diag(lam)), np.linalg.inv(p))\n",
    "revamp"
   ]
  },
  {
   "cell_type": "code",
   "execution_count": 237,
   "id": "d75317e6",
   "metadata": {},
   "outputs": [
    {
     "name": "stdout",
     "output_type": "stream",
     "text": [
      "det:8.99999999999998\n"
     ]
    }
   ],
   "source": [
    "interdet = np.linalg.det(p)\n",
    "interdet_inv = np.linalg.det(np.linalg.inv(p))\n",
    "ortho = np.linalg.det(np.diag(lam))\n",
    "\n",
    "print(\"det:{0}\".format(interdet* interdet_inv * ortho))"
   ]
  },
  {
   "cell_type": "code",
   "execution_count": 224,
   "id": "eb5138b2",
   "metadata": {},
   "outputs": [
    {
     "data": {
      "text/plain": [
       "9.000000000000005"
      ]
     },
     "execution_count": 224,
     "metadata": {},
     "output_type": "execute_result"
    }
   ],
   "source": [
    "np.linalg.det(samp)"
   ]
  },
  {
   "cell_type": "markdown",
   "id": "0d6348ec",
   "metadata": {},
   "source": [
    "#### numpy: trace diag\n",
    "1. these two methods just return uncalculated elements \n",
    "2. nothing was involved in the EVD process"
   ]
  },
  {
   "cell_type": "code",
   "execution_count": 229,
   "id": "757208a3",
   "metadata": {},
   "outputs": [
    {
     "name": "stdout",
     "output_type": "stream",
     "text": [
      "diagnal elements are: [1 8 5]\n",
      "trace result is: 14\n"
     ]
    }
   ],
   "source": [
    "print(\"diagnal elements are: {0}\".format(np.diag(samp)))\n",
    "print(\"trace result is: {0}\".format(np.trace(samp)))"
   ]
  },
  {
   "cell_type": "markdown",
   "id": "23b8e935",
   "metadata": {},
   "source": [
    "## random generator\n",
    "numpy random"
   ]
  },
  {
   "cell_type": "markdown",
   "id": "c4dcfba4",
   "metadata": {},
   "source": [
    "### create rng\n",
    "1. rng = np.random.RandomState(seed)\n",
    "2. np.random.seed(seed) will only alter a global rng"
   ]
  },
  {
   "cell_type": "markdown",
   "id": "d43f75cb",
   "metadata": {},
   "source": [
    "### methods\n",
    "1. rand() - uniform\n",
    "2. randn() - normal distribution\n",
    "3. randint() - range\n",
    "<hr>\n",
    "1. binomial() \n",
    "2. <font color=red> normal(loc= ,scale= ,size= ())</font>\n",
    "3. beta()\n",
    "4. chisquare()\n",
    "5. gamma()\n",
    "6. uniform()\n",
    "<hr>\n",
    "1. permutation - sequence, return new\n",
    "2. shuffle - sequence, in-place"
   ]
  },
  {
   "cell_type": "code",
   "execution_count": 243,
   "id": "6023494a",
   "metadata": {},
   "outputs": [
    {
     "data": {
      "text/plain": [
       "array([[0. , 0.5, 1. , 1.5, 2. ],\n",
       "       [2.5, 3. , 3.5, 4. , 4.5],\n",
       "       [5. , 5.5, 6. , 6.5, 7. ],\n",
       "       [7.5, 8. , 8.5, 9. , 9.5]])"
      ]
     },
     "execution_count": 243,
     "metadata": {},
     "output_type": "execute_result"
    }
   ],
   "source": [
    "from numpy import random\n",
    "\n",
    "pamp = np.arange(0,10,0.5).reshape(4,5)\n",
    "pamp"
   ]
  },
  {
   "cell_type": "code",
   "execution_count": 244,
   "id": "3bec43b7",
   "metadata": {},
   "outputs": [
    {
     "data": {
      "text/plain": [
       "array([[2.5, 3. , 3.5, 4. , 4.5],\n",
       "       [7.5, 8. , 8.5, 9. , 9.5],\n",
       "       [5. , 5.5, 6. , 6.5, 7. ],\n",
       "       [0. , 0.5, 1. , 1.5, 2. ]])"
      ]
     },
     "execution_count": 244,
     "metadata": {},
     "output_type": "execute_result"
    }
   ],
   "source": [
    "random.permutation(pamp)"
   ]
  },
  {
   "cell_type": "code",
   "execution_count": null,
   "id": "5877f15d",
   "metadata": {},
   "outputs": [],
   "source": []
  }
 ],
 "metadata": {
  "kernelspec": {
   "display_name": "python3.6",
   "language": "python",
   "name": "python3.6"
  },
  "language_info": {
   "codemirror_mode": {
    "name": "ipython",
    "version": 3
   },
   "file_extension": ".py",
   "mimetype": "text/x-python",
   "name": "python",
   "nbconvert_exporter": "python",
   "pygments_lexer": "ipython3",
   "version": "3.9.7"
  },
  "toc": {
   "base_numbering": 1,
   "nav_menu": {},
   "number_sections": true,
   "sideBar": true,
   "skip_h1_title": false,
   "title_cell": "Table of Contents",
   "title_sidebar": "Contents",
   "toc_cell": false,
   "toc_position": {
    "height": "calc(100% - 180px)",
    "left": "10px",
    "top": "150px",
    "width": "281.195px"
   },
   "toc_section_display": true,
   "toc_window_display": true
  }
 },
 "nbformat": 4,
 "nbformat_minor": 5
}
